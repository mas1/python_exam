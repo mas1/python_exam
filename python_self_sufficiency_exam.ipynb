{
 "cells": [
  {
   "cell_type": "markdown",
   "metadata": {},
   "source": [
    "Create a function that reverses a string. For example, given the string \"forward\", your function should return \"drawrof\". Assume all inputs are strings."
   ]
  },
  {
   "cell_type": "code",
   "execution_count": 24,
   "metadata": {},
   "outputs": [
    {
     "data": {
      "text/plain": [
       "'.ytinamuh rof sgnileef mraw tsal ym deid reh htiw dna deid ehS .enots fo traeh ym denetfos erutaerc sihT'"
      ]
     },
     "execution_count": 24,
     "metadata": {},
     "output_type": "execute_result"
    }
   ],
   "source": [
    "def reverse(str):\n",
    "    reversed = []\n",
    "    new_str = ''\n",
    "    for i in str:\n",
    "        reversed.append(i)\n",
    "    reversed.reverse()\n",
    "    for i in reversed:\n",
    "        new_str += i\n",
    "    return new_str\n",
    "\n",
    "reverse('This creature softened my heart of stone. She died and with her died my last warm feelings for humanity.')"
   ]
  },
  {
   "cell_type": "markdown",
   "metadata": {},
   "source": [
    "Complete the function below that can be used to calculate and return the posterior probability of an event A, given the known outcome of Event B using Bayes Theorem:"
   ]
  },
  {
   "cell_type": "code",
   "execution_count": 29,
   "metadata": {},
   "outputs": [],
   "source": [
    "\n",
    "def bayes(a, b_given_a, b_given_not_a):\n",
    "\n",
    "    \"\"\"\n",
    "    Calculates P(A | B) using bayes theorem.\n",
    "\n",
    "    Args:\n",
    "        a: P(A)\n",
    "        b_given_a: P(B | A)\n",
    "        b_given_not_a: P(B | ~A)\n",
    "\n",
    "    Returns:\n",
    "        P(A | B)\n",
    "    \"\"\" \n",
    "    \n",
    "    prob_a_given_b = (b_given_a * a) / ((a * b_given_a) + ((1 - a) * b_given_not_a))\n",
    "    \n",
    "    return prob_a_given_b\n",
    " "
   ]
  },
  {
   "cell_type": "markdown",
   "metadata": {},
   "source": [
    "Analyze the teams dataset from the Lahman baseball records. This dataset contains season statistics for each Major League Baseball team.\n",
    "(https://tf-assets-prod.s3.amazonaws.com/tf-curric/data-science/lahman-teams.csv)\n",
    "\n",
    "1. For all records since 1995, plot histograms for the following variables. Which distribution do they appear to follow? Consider what each variable is measuring along with the histogram's shape.\n",
    "\n",
    "    - Stolen bases per game\n",
    "    - Wins\n",
    "    - Earned run average\n",
    "\n",
    "\n",
    "2. Conduct some further exploratory data analysis on this dataset. Consider qualities like distributions, correlations and trends over time. Try to find something interesting to say about the data, and use visualizations to support your argument.\n"
   ]
  },
  {
   "cell_type": "code",
   "execution_count": 51,
   "metadata": {},
   "outputs": [],
   "source": [
    "import numpy as np\n",
    "import pandas as pd\n",
    "import matplotlib.pyplot as plt"
   ]
  },
  {
   "cell_type": "code",
   "execution_count": 52,
   "metadata": {},
   "outputs": [
    {
     "name": "stdout",
     "output_type": "stream",
     "text": [
      "<class 'pandas.core.frame.DataFrame'>\n",
      "RangeIndex: 2805 entries, 0 to 2804\n",
      "Data columns (total 48 columns):\n",
      " #   Column          Non-Null Count  Dtype  \n",
      "---  ------          --------------  -----  \n",
      " 0   yearID          2805 non-null   int64  \n",
      " 1   lgID            2755 non-null   object \n",
      " 2   teamID          2805 non-null   object \n",
      " 3   franchID        2805 non-null   object \n",
      " 4   divID           1288 non-null   object \n",
      " 5   Rank            2805 non-null   int64  \n",
      " 6   G               2805 non-null   int64  \n",
      " 7   Ghome           2406 non-null   float64\n",
      " 8   W               2805 non-null   int64  \n",
      " 9   L               2805 non-null   int64  \n",
      " 10  DivWin          1260 non-null   object \n",
      " 11  WCWin           624 non-null    object \n",
      " 12  LgWin           2777 non-null   object \n",
      " 13  WSWin           2448 non-null   object \n",
      " 14  R               2805 non-null   int64  \n",
      " 15  AB              2805 non-null   int64  \n",
      " 16  H               2805 non-null   int64  \n",
      " 17  2B              2805 non-null   int64  \n",
      " 18  3B              2805 non-null   int64  \n",
      " 19  HR              2805 non-null   int64  \n",
      " 20  BB              2805 non-null   int64  \n",
      " 21  SO              2685 non-null   float64\n",
      " 22  SB              2661 non-null   float64\n",
      " 23  CS              1946 non-null   float64\n",
      " 24  HBP             480 non-null    float64\n",
      " 25  SF              480 non-null    float64\n",
      " 26  RA              2805 non-null   int64  \n",
      " 27  ER              2805 non-null   int64  \n",
      " 28  ERA             2805 non-null   float64\n",
      " 29  CG              2805 non-null   int64  \n",
      " 30  SHO             2805 non-null   int64  \n",
      " 31  SV              2805 non-null   int64  \n",
      " 32  IPouts          2805 non-null   int64  \n",
      " 33  HA              2805 non-null   int64  \n",
      " 34  HRA             2805 non-null   int64  \n",
      " 35  BBA             2805 non-null   int64  \n",
      " 36  SOA             2805 non-null   int64  \n",
      " 37  E               2805 non-null   int64  \n",
      " 38  DP              2488 non-null   float64\n",
      " 39  FP              2805 non-null   float64\n",
      " 40  name            2805 non-null   object \n",
      " 41  park            2771 non-null   object \n",
      " 42  attendance      2526 non-null   float64\n",
      " 43  BPF             2805 non-null   int64  \n",
      " 44  PPF             2805 non-null   int64  \n",
      " 45  teamIDBR        2805 non-null   object \n",
      " 46  teamIDlahman45  2805 non-null   object \n",
      " 47  teamIDretro     2805 non-null   object \n",
      "dtypes: float64(10), int64(25), object(13)\n",
      "memory usage: 1.0+ MB\n"
     ]
    }
   ],
   "source": [
    "mlb_data = pd.read_csv('https://tf-assets-prod.s3.amazonaws.com/tf-curric/data-science/lahman-teams.csv')\n",
    "mlb_data.info()"
   ]
  },
  {
   "cell_type": "code",
   "execution_count": 53,
   "metadata": {},
   "outputs": [
    {
     "data": {
      "text/plain": [
       "2181     73.0\n",
       "2182     92.0\n",
       "2183     99.0\n",
       "2184     58.0\n",
       "2185    110.0\n",
       "        ...  \n",
       "2800     59.0\n",
       "2801     93.0\n",
       "2802    132.0\n",
       "2803     82.0\n",
       "2804     97.0\n",
       "Name: SB, Length: 624, dtype: float64"
      ]
     },
     "execution_count": 53,
     "metadata": {},
     "output_type": "execute_result"
    }
   ],
   "source": [
    "# Extract coulmns of interest since 1995\n",
    "bools = (mlb_data['yearID'] >= 1995)\n",
    "updated_mlb_data = mlb_data.iloc[bools.values]\n",
    "updated_mlb_data['SB']"
   ]
  },
  {
   "cell_type": "code",
   "execution_count": 54,
   "metadata": {
    "scrolled": true
   },
   "outputs": [
    {
     "data": {
      "text/plain": [
       "array([[<matplotlib.axes._subplots.AxesSubplot object at 0x7fbd89c3b290>]],\n",
       "      dtype=object)"
      ]
     },
     "execution_count": 54,
     "metadata": {},
     "output_type": "execute_result"
    },
    {
     "data": {
      "image/png": "[encoded data removed]",
      "text/plain": [
       "<Figure size 432x288 with 1 Axes>"
      ]
     },
     "metadata": {
      "needs_background": "light"
     },
     "output_type": "display_data"
    }
   ],
   "source": [
    "updated_mlb_data.hist('SB')"
   ]
  },
  {
   "cell_type": "code",
   "execution_count": 55,
   "metadata": {},
   "outputs": [
    {
     "data": {
      "text/plain": [
       "array([[<matplotlib.axes._subplots.AxesSubplot object at 0x7fbd866e7a10>]],\n",
       "      dtype=object)"
      ]
     },
     "execution_count": 55,
     "metadata": {},
     "output_type": "execute_result"
    },
    {
     "data": {
      "image/png": "[encoded data removed]",
      "text/plain": [
       "<Figure size 432x288 with 1 Axes>"
      ]
     },
     "metadata": {
      "needs_background": "light"
     },
     "output_type": "display_data"
    }
   ],
   "source": [
    "updated_mlb_data.hist('W')"
   ]
  },
  {
   "cell_type": "code",
   "execution_count": 60,
   "metadata": {},
   "outputs": [
    {
     "data": {
      "text/plain": [
       "array([[<matplotlib.axes._subplots.AxesSubplot object at 0x7fbd8f78e490>]],\n",
       "      dtype=object)"
      ]
     },
     "execution_count": 60,
     "metadata": {},
     "output_type": "execute_result"
    },
    {
     "data": {
      "image/png": "[encoded data removed]",
      "text/plain": [
       "<Figure size 432x288 with 1 Axes>"
      ]
     },
     "metadata": {
      "needs_background": "light"
     },
     "output_type": "display_data"
    }
   ],
   "source": [
    "updated_mlb_data.hist('ERA')"
   ]
  },
  {
   "cell_type": "markdown",
   "metadata": {},
   "source": [
    "##### All 3 distributions are fairly normal although not perfectly. For SB, the data is skewed slightly to the right.  Lets see if there are any correlations between the values."
   ]
  },
  {
   "cell_type": "code",
   "execution_count": 61,
   "metadata": {},
   "outputs": [
    {
     "data": {
      "text/plain": [
       "-0.020265984048155827"
      ]
     },
     "execution_count": 61,
     "metadata": {},
     "output_type": "execute_result"
    }
   ],
   "source": [
    "updated_mlb_data['W'].corr(updated_mlb_data['SB'])"
   ]
  },
  {
   "cell_type": "code",
   "execution_count": 62,
   "metadata": {},
   "outputs": [
    {
     "data": {
      "text/plain": [
       "-0.5984547630878911"
      ]
     },
     "execution_count": 62,
     "metadata": {},
     "output_type": "execute_result"
    }
   ],
   "source": [
    "updated_mlb_data['W'].corr(updated_mlb_data['ERA'])"
   ]
  },
  {
   "cell_type": "code",
   "execution_count": 63,
   "metadata": {},
   "outputs": [
    {
     "data": {
      "text/plain": [
       "-0.020265984048155827"
      ]
     },
     "execution_count": 63,
     "metadata": {},
     "output_type": "execute_result"
    }
   ],
   "source": [
    "updated_mlb_data['ERA'].corr(updated_mlb_data['SB'])"
   ]
  },
  {
   "cell_type": "markdown",
   "metadata": {},
   "source": [
    "There is a strong negative correlation between Wins and Earned Runs Average. This makes sense - a team's win percentage would likely go down as they number of runs they allow goes up. Stealing bases seems to have no correlation on ERA or win percentage. It is a pretty small part of the game so I was not expecting much of an impact."
   ]
  },
  {
   "cell_type": "markdown",
   "metadata": {},
   "source": [
    "### Choose any two of the variables from 3. Draw 1,000 samples, taking the mean of 100 observations each time. Plot the frequencies of the sample means. What distribution does this appear to follow?"
   ]
  },
  {
   "cell_type": "code",
   "execution_count": 80,
   "metadata": {},
   "outputs": [],
   "source": [
    "from scipy import stats\n",
    "from numpy import mean, std"
   ]
  },
  {
   "cell_type": "code",
   "execution_count": 71,
   "metadata": {},
   "outputs": [],
   "source": [
    "win_means = []\n",
    "\n",
    "for trial in range(1000):\n",
    "    win_means.append(updated_mlb_data['W'].sample(n=100).mean())\n"
   ]
  },
  {
   "cell_type": "code",
   "execution_count": 82,
   "metadata": {},
   "outputs": [
    {
     "data": {
      "image/png": "[encoded data removed]",
      "text/plain": [
       "<Figure size 432x288 with 1 Axes>"
      ]
     },
     "metadata": {
      "needs_background": "light"
     },
     "output_type": "display_data"
    }
   ],
   "source": [
    "plt.hist(win_means)\n",
    "plt.axvline(mean(win_means), color='b')\n",
    "plt.axvline(mean(win_means) + std(win_means), color='b', linestyle='dashed')\n",
    "plt.axvline(mean(win_means) - std(win_means), color='b', linestyle='dashed')\n",
    "plt.show()"
   ]
  },
  {
   "cell_type": "code",
   "execution_count": 73,
   "metadata": {},
   "outputs": [
    {
     "name": "stdout",
     "output_type": "stream",
     "text": [
      "DescribeResult(nobs=1000, minmax=(77.63, 84.28), mean=80.57139, variance=1.0743673352352352, skewness=0.018861665475569174, kurtosis=-0.055697234891538105)\n"
     ]
    }
   ],
   "source": [
    "print(stats.describe(win_means))"
   ]
  },
  {
   "cell_type": "code",
   "execution_count": 83,
   "metadata": {},
   "outputs": [],
   "source": [
    "sb_means = []\n",
    "\n",
    "for trial in range(1000):\n",
    "    sb_means.append(updated_mlb_data['SB'].sample(n=100).mean())\n"
   ]
  },
  {
   "cell_type": "code",
   "execution_count": 84,
   "metadata": {},
   "outputs": [
    {
     "data": {
      "image/png": "[encoded data removed]",
      "text/plain": [
       "<Figure size 432x288 with 1 Axes>"
      ]
     },
     "metadata": {
      "needs_background": "light"
     },
     "output_type": "display_data"
    }
   ],
   "source": [
    "plt.hist(sb_means)\n",
    "plt.axvline(mean(sb_means), color='b')\n",
    "plt.axvline(mean(sb_means) + std(sb_means), color='b', linestyle='dashed')\n",
    "plt.axvline(mean(sb_means) - std(sb_means), color='b', linestyle='dashed')\n",
    "plt.show()"
   ]
  },
  {
   "cell_type": "code",
   "execution_count": 85,
   "metadata": {},
   "outputs": [
    {
     "name": "stdout",
     "output_type": "stream",
     "text": [
      "DescribeResult(nobs=1000, minmax=(90.15, 107.07), mean=98.5958, variance=8.57462118118118, skewness=0.07801235465180247, kurtosis=-0.16569471013544845)\n"
     ]
    }
   ],
   "source": [
    "print(stats.describe(sb_means))"
   ]
  },
  {
   "cell_type": "markdown",
   "metadata": {},
   "source": [
    "Both distributions appear to be normal, as we would expect from the Central Limit Theorem "
   ]
  },
  {
   "cell_type": "code",
   "execution_count": null,
   "metadata": {},
   "outputs": [],
   "source": []
  }
 ],
 "metadata": {
  "kernelspec": {
   "display_name": "Python 3",
   "language": "python",
   "name": "python3"
  },
  "language_info": {
   "codemirror_mode": {
    "name": "ipython",
    "version": 3
   },
   "file_extension": ".py",
   "mimetype": "text/x-python",
   "name": "python",
   "nbconvert_exporter": "python",
   "pygments_lexer": "ipython3",
   "version": "3.7.6"
  }
 },
 "nbformat": 4,
 "nbformat_minor": 4
}
