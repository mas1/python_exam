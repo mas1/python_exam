{
 "cells": [
  {
   "cell_type": "markdown",
   "metadata": {},
   "source": [
    "Create a function that reverses a string. For example, given the string \"forward\", your function should return \"drawrof\". Assume all inputs are strings."
   ]
  },
  {
   "cell_type": "code",
   "execution_count": 1,
   "metadata": {},
   "outputs": [
    {
     "data": {
      "text/plain": [
       "'.ytinamuh rof sgnileef mraw tsal ym deid reh htiw dna deid ehS .enots fo traeh ym denetfos erutaerc sihT'"
      ]
     },
     "execution_count": 1,
     "metadata": {},
     "output_type": "execute_result"
    }
   ],
   "source": [
    "def reverse(str):\n",
    "    reversed = []\n",
    "    new_str = ''\n",
    "    for i in str:\n",
    "        reversed.append(i)\n",
    "    reversed.reverse()\n",
    "    for i in reversed:\n",
    "        new_str += i\n",
    "    return new_str\n",
    "\n",
    "reverse('This creature softened my heart of stone. She died and with her died my last warm feelings for humanity.')"
   ]
  },
  {
   "cell_type": "markdown",
   "metadata": {},
   "source": [
    "Complete the function below that can be used to calculate and return the posterior probability of an event A, given the known outcome of Event B using Bayes Theorem:"
   ]
  },
  {
   "cell_type": "code",
   "execution_count": 2,
   "metadata": {},
   "outputs": [],
   "source": [
    "\n",
    "def bayes(a, b_given_a, b_given_not_a):\n",
    "\n",
    "    \"\"\"\n",
    "    Calculates P(A | B) using bayes theorem.\n",
    "\n",
    "    Args:\n",
    "        a: P(A)\n",
    "        b_given_a: P(B | A)\n",
    "        b_given_not_a: P(B | ~A)\n",
    "\n",
    "    Returns:\n",
    "        P(A | B)\n",
    "    \"\"\" \n",
    "    \n",
    "    prob_a_given_b = (b_given_a * a) / ((a * b_given_a) + ((1 - a) * b_given_not_a))\n",
    "    \n",
    "    return prob_a_given_b\n",
    " "
   ]
  },
  {
   "cell_type": "markdown",
   "metadata": {},
   "source": [
    "Analyze the teams dataset from the Lahman baseball records. This dataset contains season statistics for each Major League Baseball team.\n",
    "(https://tf-assets-prod.s3.amazonaws.com/tf-curric/data-science/lahman-teams.csv)\n",
    "\n",
    "1. For all records since 1995, plot histograms for the following variables. Which distribution do they appear to follow? Consider what each variable is measuring along with the histogram's shape.\n",
    "\n",
    "    - Stolen bases per game\n",
    "    - Wins\n",
    "    - Earned run average\n",
    "\n",
    "\n",
    "2. Conduct some further exploratory data analysis on this dataset. Consider qualities like distributions, correlations and trends over time. Try to find something interesting to say about the data, and use visualizations to support your argument.\n"
   ]
  },
  {
   "cell_type": "code",
   "execution_count": 3,
   "metadata": {},
   "outputs": [],
   "source": [
    "import numpy as np\n",
    "import pandas as pd\n",
    "import matplotlib.pyplot as plt\n",
    "import seaborn as sns"
   ]
  },
  {
   "cell_type": "code",
   "execution_count": 4,
   "metadata": {},
   "outputs": [
    {
     "name": "stdout",
     "output_type": "stream",
     "text": [
      "<class 'pandas.core.frame.DataFrame'>\n",
      "RangeIndex: 2805 entries, 0 to 2804\n",
      "Data columns (total 48 columns):\n",
      " #   Column          Non-Null Count  Dtype  \n",
      "---  ------          --------------  -----  \n",
      " 0   yearID          2805 non-null   int64  \n",
      " 1   lgID            2755 non-null   object \n",
      " 2   teamID          2805 non-null   object \n",
      " 3   franchID        2805 non-null   object \n",
      " 4   divID           1288 non-null   object \n",
      " 5   Rank            2805 non-null   int64  \n",
      " 6   G               2805 non-null   int64  \n",
      " 7   Ghome           2406 non-null   float64\n",
      " 8   W               2805 non-null   int64  \n",
      " 9   L               2805 non-null   int64  \n",
      " 10  DivWin          1260 non-null   object \n",
      " 11  WCWin           624 non-null    object \n",
      " 12  LgWin           2777 non-null   object \n",
      " 13  WSWin           2448 non-null   object \n",
      " 14  R               2805 non-null   int64  \n",
      " 15  AB              2805 non-null   int64  \n",
      " 16  H               2805 non-null   int64  \n",
      " 17  2B              2805 non-null   int64  \n",
      " 18  3B              2805 non-null   int64  \n",
      " 19  HR              2805 non-null   int64  \n",
      " 20  BB              2805 non-null   int64  \n",
      " 21  SO              2685 non-null   float64\n",
      " 22  SB              2661 non-null   float64\n",
      " 23  CS              1946 non-null   float64\n",
      " 24  HBP             480 non-null    float64\n",
      " 25  SF              480 non-null    float64\n",
      " 26  RA              2805 non-null   int64  \n",
      " 27  ER              2805 non-null   int64  \n",
      " 28  ERA             2805 non-null   float64\n",
      " 29  CG              2805 non-null   int64  \n",
      " 30  SHO             2805 non-null   int64  \n",
      " 31  SV              2805 non-null   int64  \n",
      " 32  IPouts          2805 non-null   int64  \n",
      " 33  HA              2805 non-null   int64  \n",
      " 34  HRA             2805 non-null   int64  \n",
      " 35  BBA             2805 non-null   int64  \n",
      " 36  SOA             2805 non-null   int64  \n",
      " 37  E               2805 non-null   int64  \n",
      " 38  DP              2488 non-null   float64\n",
      " 39  FP              2805 non-null   float64\n",
      " 40  name            2805 non-null   object \n",
      " 41  park            2771 non-null   object \n",
      " 42  attendance      2526 non-null   float64\n",
      " 43  BPF             2805 non-null   int64  \n",
      " 44  PPF             2805 non-null   int64  \n",
      " 45  teamIDBR        2805 non-null   object \n",
      " 46  teamIDlahman45  2805 non-null   object \n",
      " 47  teamIDretro     2805 non-null   object \n",
      "dtypes: float64(10), int64(25), object(13)\n",
      "memory usage: 1.0+ MB\n"
     ]
    }
   ],
   "source": [
    "mlb_data = pd.read_csv('https://tf-assets-prod.s3.amazonaws.com/tf-curric/data-science/lahman-teams.csv')\n",
    "mlb_data.info()"
   ]
  },
  {
   "cell_type": "code",
   "execution_count": 5,
   "metadata": {},
   "outputs": [],
   "source": [
    "pd.options.display.max_columns = None"
   ]
  },
  {
   "cell_type": "code",
   "execution_count": 6,
   "metadata": {},
   "outputs": [
    {
     "data": {
      "text/html": [
       "<div>\n",
       "<style scoped>\n",
       "    .dataframe tbody tr th:only-of-type {\n",
       "        vertical-align: middle;\n",
       "    }\n",
       "\n",
       "    .dataframe tbody tr th {\n",
       "        vertical-align: top;\n",
       "    }\n",
       "\n",
       "    .dataframe thead th {\n",
       "        text-align: right;\n",
       "    }\n",
       "</style>\n",
       "<table border=\"1\" class=\"dataframe\">\n",
       "  <thead>\n",
       "    <tr style=\"text-align: right;\">\n",
       "      <th></th>\n",
       "      <th>yearID</th>\n",
       "      <th>lgID</th>\n",
       "      <th>teamID</th>\n",
       "      <th>franchID</th>\n",
       "      <th>divID</th>\n",
       "      <th>Rank</th>\n",
       "      <th>G</th>\n",
       "      <th>Ghome</th>\n",
       "      <th>W</th>\n",
       "      <th>L</th>\n",
       "      <th>DivWin</th>\n",
       "      <th>WCWin</th>\n",
       "      <th>LgWin</th>\n",
       "      <th>WSWin</th>\n",
       "      <th>R</th>\n",
       "      <th>AB</th>\n",
       "      <th>H</th>\n",
       "      <th>2B</th>\n",
       "      <th>3B</th>\n",
       "      <th>HR</th>\n",
       "      <th>BB</th>\n",
       "      <th>SO</th>\n",
       "      <th>SB</th>\n",
       "      <th>CS</th>\n",
       "      <th>HBP</th>\n",
       "      <th>SF</th>\n",
       "      <th>RA</th>\n",
       "      <th>ER</th>\n",
       "      <th>ERA</th>\n",
       "      <th>CG</th>\n",
       "      <th>SHO</th>\n",
       "      <th>SV</th>\n",
       "      <th>IPouts</th>\n",
       "      <th>HA</th>\n",
       "      <th>HRA</th>\n",
       "      <th>BBA</th>\n",
       "      <th>SOA</th>\n",
       "      <th>E</th>\n",
       "      <th>DP</th>\n",
       "      <th>FP</th>\n",
       "      <th>name</th>\n",
       "      <th>park</th>\n",
       "      <th>attendance</th>\n",
       "      <th>BPF</th>\n",
       "      <th>PPF</th>\n",
       "      <th>teamIDBR</th>\n",
       "      <th>teamIDlahman45</th>\n",
       "      <th>teamIDretro</th>\n",
       "    </tr>\n",
       "  </thead>\n",
       "  <tbody>\n",
       "    <tr>\n",
       "      <th>2181</th>\n",
       "      <td>1995</td>\n",
       "      <td>NL</td>\n",
       "      <td>ATL</td>\n",
       "      <td>ATL</td>\n",
       "      <td>E</td>\n",
       "      <td>1</td>\n",
       "      <td>144</td>\n",
       "      <td>72.0</td>\n",
       "      <td>90</td>\n",
       "      <td>54</td>\n",
       "      <td>Y</td>\n",
       "      <td>N</td>\n",
       "      <td>Y</td>\n",
       "      <td>Y</td>\n",
       "      <td>645</td>\n",
       "      <td>4814</td>\n",
       "      <td>1202</td>\n",
       "      <td>210</td>\n",
       "      <td>27</td>\n",
       "      <td>168</td>\n",
       "      <td>520</td>\n",
       "      <td>933.0</td>\n",
       "      <td>73.0</td>\n",
       "      <td>43.0</td>\n",
       "      <td>NaN</td>\n",
       "      <td>NaN</td>\n",
       "      <td>540</td>\n",
       "      <td>493</td>\n",
       "      <td>3.44</td>\n",
       "      <td>18</td>\n",
       "      <td>11</td>\n",
       "      <td>34</td>\n",
       "      <td>3873</td>\n",
       "      <td>1184</td>\n",
       "      <td>107</td>\n",
       "      <td>436</td>\n",
       "      <td>1087</td>\n",
       "      <td>100</td>\n",
       "      <td>113.0</td>\n",
       "      <td>0.98</td>\n",
       "      <td>Atlanta Braves</td>\n",
       "      <td>Atlanta-Fulton County Stadium</td>\n",
       "      <td>2561831.0</td>\n",
       "      <td>103</td>\n",
       "      <td>102</td>\n",
       "      <td>ATL</td>\n",
       "      <td>ATL</td>\n",
       "      <td>ATL</td>\n",
       "    </tr>\n",
       "    <tr>\n",
       "      <th>2182</th>\n",
       "      <td>1995</td>\n",
       "      <td>AL</td>\n",
       "      <td>BAL</td>\n",
       "      <td>BAL</td>\n",
       "      <td>E</td>\n",
       "      <td>3</td>\n",
       "      <td>144</td>\n",
       "      <td>72.0</td>\n",
       "      <td>71</td>\n",
       "      <td>73</td>\n",
       "      <td>N</td>\n",
       "      <td>N</td>\n",
       "      <td>N</td>\n",
       "      <td>N</td>\n",
       "      <td>704</td>\n",
       "      <td>4837</td>\n",
       "      <td>1267</td>\n",
       "      <td>229</td>\n",
       "      <td>27</td>\n",
       "      <td>173</td>\n",
       "      <td>574</td>\n",
       "      <td>803.0</td>\n",
       "      <td>92.0</td>\n",
       "      <td>45.0</td>\n",
       "      <td>NaN</td>\n",
       "      <td>NaN</td>\n",
       "      <td>640</td>\n",
       "      <td>607</td>\n",
       "      <td>4.31</td>\n",
       "      <td>19</td>\n",
       "      <td>10</td>\n",
       "      <td>29</td>\n",
       "      <td>3801</td>\n",
       "      <td>1165</td>\n",
       "      <td>149</td>\n",
       "      <td>523</td>\n",
       "      <td>930</td>\n",
       "      <td>72</td>\n",
       "      <td>141.0</td>\n",
       "      <td>0.98</td>\n",
       "      <td>Baltimore Orioles</td>\n",
       "      <td>Oriole Park at Camden Yards</td>\n",
       "      <td>3098475.0</td>\n",
       "      <td>102</td>\n",
       "      <td>101</td>\n",
       "      <td>BAL</td>\n",
       "      <td>BAL</td>\n",
       "      <td>BAL</td>\n",
       "    </tr>\n",
       "    <tr>\n",
       "      <th>2183</th>\n",
       "      <td>1995</td>\n",
       "      <td>AL</td>\n",
       "      <td>BOS</td>\n",
       "      <td>BOS</td>\n",
       "      <td>E</td>\n",
       "      <td>1</td>\n",
       "      <td>144</td>\n",
       "      <td>72.0</td>\n",
       "      <td>86</td>\n",
       "      <td>58</td>\n",
       "      <td>Y</td>\n",
       "      <td>N</td>\n",
       "      <td>N</td>\n",
       "      <td>N</td>\n",
       "      <td>791</td>\n",
       "      <td>4997</td>\n",
       "      <td>1399</td>\n",
       "      <td>286</td>\n",
       "      <td>31</td>\n",
       "      <td>175</td>\n",
       "      <td>560</td>\n",
       "      <td>923.0</td>\n",
       "      <td>99.0</td>\n",
       "      <td>44.0</td>\n",
       "      <td>NaN</td>\n",
       "      <td>NaN</td>\n",
       "      <td>698</td>\n",
       "      <td>630</td>\n",
       "      <td>4.39</td>\n",
       "      <td>7</td>\n",
       "      <td>9</td>\n",
       "      <td>39</td>\n",
       "      <td>3876</td>\n",
       "      <td>1338</td>\n",
       "      <td>127</td>\n",
       "      <td>476</td>\n",
       "      <td>888</td>\n",
       "      <td>120</td>\n",
       "      <td>151.0</td>\n",
       "      <td>0.97</td>\n",
       "      <td>Boston Red Sox</td>\n",
       "      <td>Fenway Park II</td>\n",
       "      <td>2164410.0</td>\n",
       "      <td>103</td>\n",
       "      <td>103</td>\n",
       "      <td>BOS</td>\n",
       "      <td>BOS</td>\n",
       "      <td>BOS</td>\n",
       "    </tr>\n",
       "    <tr>\n",
       "      <th>2184</th>\n",
       "      <td>1995</td>\n",
       "      <td>AL</td>\n",
       "      <td>CAL</td>\n",
       "      <td>ANA</td>\n",
       "      <td>W</td>\n",
       "      <td>2</td>\n",
       "      <td>145</td>\n",
       "      <td>72.0</td>\n",
       "      <td>78</td>\n",
       "      <td>67</td>\n",
       "      <td>N</td>\n",
       "      <td>N</td>\n",
       "      <td>N</td>\n",
       "      <td>N</td>\n",
       "      <td>801</td>\n",
       "      <td>5019</td>\n",
       "      <td>1390</td>\n",
       "      <td>252</td>\n",
       "      <td>25</td>\n",
       "      <td>186</td>\n",
       "      <td>564</td>\n",
       "      <td>889.0</td>\n",
       "      <td>58.0</td>\n",
       "      <td>39.0</td>\n",
       "      <td>NaN</td>\n",
       "      <td>NaN</td>\n",
       "      <td>697</td>\n",
       "      <td>645</td>\n",
       "      <td>4.52</td>\n",
       "      <td>8</td>\n",
       "      <td>9</td>\n",
       "      <td>42</td>\n",
       "      <td>3852</td>\n",
       "      <td>1310</td>\n",
       "      <td>163</td>\n",
       "      <td>486</td>\n",
       "      <td>901</td>\n",
       "      <td>95</td>\n",
       "      <td>120.0</td>\n",
       "      <td>0.98</td>\n",
       "      <td>California Angels</td>\n",
       "      <td>Anaheim Stadium</td>\n",
       "      <td>1748680.0</td>\n",
       "      <td>99</td>\n",
       "      <td>99</td>\n",
       "      <td>CAL</td>\n",
       "      <td>CAL</td>\n",
       "      <td>CAL</td>\n",
       "    </tr>\n",
       "    <tr>\n",
       "      <th>2185</th>\n",
       "      <td>1995</td>\n",
       "      <td>AL</td>\n",
       "      <td>CHA</td>\n",
       "      <td>CHW</td>\n",
       "      <td>C</td>\n",
       "      <td>3</td>\n",
       "      <td>145</td>\n",
       "      <td>72.0</td>\n",
       "      <td>68</td>\n",
       "      <td>76</td>\n",
       "      <td>N</td>\n",
       "      <td>N</td>\n",
       "      <td>N</td>\n",
       "      <td>N</td>\n",
       "      <td>755</td>\n",
       "      <td>5060</td>\n",
       "      <td>1417</td>\n",
       "      <td>252</td>\n",
       "      <td>37</td>\n",
       "      <td>146</td>\n",
       "      <td>576</td>\n",
       "      <td>767.0</td>\n",
       "      <td>110.0</td>\n",
       "      <td>39.0</td>\n",
       "      <td>NaN</td>\n",
       "      <td>NaN</td>\n",
       "      <td>758</td>\n",
       "      <td>692</td>\n",
       "      <td>4.85</td>\n",
       "      <td>12</td>\n",
       "      <td>4</td>\n",
       "      <td>36</td>\n",
       "      <td>3852</td>\n",
       "      <td>1374</td>\n",
       "      <td>164</td>\n",
       "      <td>617</td>\n",
       "      <td>892</td>\n",
       "      <td>108</td>\n",
       "      <td>131.0</td>\n",
       "      <td>0.98</td>\n",
       "      <td>Chicago White Sox</td>\n",
       "      <td>Comiskey Park II</td>\n",
       "      <td>1609773.0</td>\n",
       "      <td>96</td>\n",
       "      <td>95</td>\n",
       "      <td>CHW</td>\n",
       "      <td>CHA</td>\n",
       "      <td>CHA</td>\n",
       "    </tr>\n",
       "  </tbody>\n",
       "</table>\n",
       "</div>"
      ],
      "text/plain": [
       "      yearID lgID teamID franchID divID  Rank    G  Ghome   W   L DivWin  \\\n",
       "2181    1995   NL    ATL      ATL     E     1  144   72.0  90  54      Y   \n",
       "2182    1995   AL    BAL      BAL     E     3  144   72.0  71  73      N   \n",
       "2183    1995   AL    BOS      BOS     E     1  144   72.0  86  58      Y   \n",
       "2184    1995   AL    CAL      ANA     W     2  145   72.0  78  67      N   \n",
       "2185    1995   AL    CHA      CHW     C     3  145   72.0  68  76      N   \n",
       "\n",
       "     WCWin LgWin WSWin    R    AB     H   2B  3B   HR   BB     SO     SB  \\\n",
       "2181     N     Y     Y  645  4814  1202  210  27  168  520  933.0   73.0   \n",
       "2182     N     N     N  704  4837  1267  229  27  173  574  803.0   92.0   \n",
       "2183     N     N     N  791  4997  1399  286  31  175  560  923.0   99.0   \n",
       "2184     N     N     N  801  5019  1390  252  25  186  564  889.0   58.0   \n",
       "2185     N     N     N  755  5060  1417  252  37  146  576  767.0  110.0   \n",
       "\n",
       "        CS  HBP  SF   RA   ER   ERA  CG  SHO  SV  IPouts    HA  HRA  BBA  \\\n",
       "2181  43.0  NaN NaN  540  493  3.44  18   11  34    3873  1184  107  436   \n",
       "2182  45.0  NaN NaN  640  607  4.31  19   10  29    3801  1165  149  523   \n",
       "2183  44.0  NaN NaN  698  630  4.39   7    9  39    3876  1338  127  476   \n",
       "2184  39.0  NaN NaN  697  645  4.52   8    9  42    3852  1310  163  486   \n",
       "2185  39.0  NaN NaN  758  692  4.85  12    4  36    3852  1374  164  617   \n",
       "\n",
       "       SOA    E     DP    FP               name  \\\n",
       "2181  1087  100  113.0  0.98     Atlanta Braves   \n",
       "2182   930   72  141.0  0.98  Baltimore Orioles   \n",
       "2183   888  120  151.0  0.97     Boston Red Sox   \n",
       "2184   901   95  120.0  0.98  California Angels   \n",
       "2185   892  108  131.0  0.98  Chicago White Sox   \n",
       "\n",
       "                               park  attendance  BPF  PPF teamIDBR  \\\n",
       "2181  Atlanta-Fulton County Stadium   2561831.0  103  102      ATL   \n",
       "2182    Oriole Park at Camden Yards   3098475.0  102  101      BAL   \n",
       "2183                 Fenway Park II   2164410.0  103  103      BOS   \n",
       "2184                Anaheim Stadium   1748680.0   99   99      CAL   \n",
       "2185               Comiskey Park II   1609773.0   96   95      CHW   \n",
       "\n",
       "     teamIDlahman45 teamIDretro  \n",
       "2181            ATL         ATL  \n",
       "2182            BAL         BAL  \n",
       "2183            BOS         BOS  \n",
       "2184            CAL         CAL  \n",
       "2185            CHA         CHA  "
      ]
     },
     "execution_count": 6,
     "metadata": {},
     "output_type": "execute_result"
    }
   ],
   "source": [
    "# Extract coulmns of interest since 1995\n",
    "bools = (mlb_data['yearID'] >= 1995)\n",
    "updated_mlb_data = mlb_data.iloc[bools.values]\n",
    "updated_mlb_data.head()"
   ]
  },
  {
   "cell_type": "code",
   "execution_count": 7,
   "metadata": {},
   "outputs": [
    {
     "data": {
      "text/plain": [
       "<matplotlib.axes._subplots.AxesSubplot at 0x7fb0b0e913d0>"
      ]
     },
     "execution_count": 7,
     "metadata": {},
     "output_type": "execute_result"
    },
    {
     "data": {
      "image/png": "[encoded data removed]",
      "text/plain": [
       "<Figure size 432x288 with 1 Axes>"
      ]
     },
     "metadata": {
      "needs_background": "light"
     },
     "output_type": "display_data"
    }
   ],
   "source": [
    "(updated_mlb_data['SB']/updated_mlb_data['G']).hist()"
   ]
  },
  {
   "cell_type": "code",
   "execution_count": 8,
   "metadata": {},
   "outputs": [
    {
     "data": {
      "text/plain": [
       "array([[<matplotlib.axes._subplots.AxesSubplot object at 0x7fb0b0f4bad0>]],\n",
       "      dtype=object)"
      ]
     },
     "execution_count": 8,
     "metadata": {},
     "output_type": "execute_result"
    },
    {
     "data": {
      "image/png": "[encoded data removed]",
      "text/plain": [
       "<Figure size 432x288 with 1 Axes>"
      ]
     },
     "metadata": {
      "needs_background": "light"
     },
     "output_type": "display_data"
    }
   ],
   "source": [
    "updated_mlb_data.hist('W')"
   ]
  },
  {
   "cell_type": "code",
   "execution_count": 9,
   "metadata": {},
   "outputs": [
    {
     "data": {
      "text/plain": [
       "array([[<matplotlib.axes._subplots.AxesSubplot object at 0x7fb0b1094850>]],\n",
       "      dtype=object)"
      ]
     },
     "execution_count": 9,
     "metadata": {},
     "output_type": "execute_result"
    },
    {
     "data": {
      "image/png": "[encoded data removed]",
      "text/plain": [
       "<Figure size 432x288 with 1 Axes>"
      ]
     },
     "metadata": {
      "needs_background": "light"
     },
     "output_type": "display_data"
    }
   ],
   "source": [
    "updated_mlb_data.hist('ERA')"
   ]
  },
  {
   "cell_type": "markdown",
   "metadata": {},
   "source": [
    "##### All 3 distributions are fairly normal although not perfectly. For SB, the data is skewed slightly to the right.  Lets see if there are any correlations between the values."
   ]
  },
  {
   "cell_type": "code",
   "execution_count": 10,
   "metadata": {},
   "outputs": [
    {
     "data": {
      "text/plain": [
       "0.0588957487000825"
      ]
     },
     "execution_count": 10,
     "metadata": {},
     "output_type": "execute_result"
    }
   ],
   "source": [
    "updated_mlb_data['W'].corr(updated_mlb_data['SB'])"
   ]
  },
  {
   "cell_type": "code",
   "execution_count": 11,
   "metadata": {},
   "outputs": [
    {
     "data": {
      "text/plain": [
       "-0.5984547630878911"
      ]
     },
     "execution_count": 11,
     "metadata": {},
     "output_type": "execute_result"
    }
   ],
   "source": [
    "updated_mlb_data['W'].corr(updated_mlb_data['ERA'])"
   ]
  },
  {
   "cell_type": "code",
   "execution_count": 12,
   "metadata": {},
   "outputs": [
    {
     "data": {
      "text/plain": [
       "-0.020265984048155827"
      ]
     },
     "execution_count": 12,
     "metadata": {},
     "output_type": "execute_result"
    }
   ],
   "source": [
    "updated_mlb_data['ERA'].corr(updated_mlb_data['SB'])"
   ]
  },
  {
   "cell_type": "markdown",
   "metadata": {},
   "source": [
    "There is a strong negative correlation between Wins and Earned Runs Average. This makes sense - a team's win percentage would likely go down as they number of runs they allow goes up. Stealing bases seems to have no correlation on ERA or win percentage. It is a pretty small part of the game so I was not expecting much of an impact. I will visualize this below.\n"
   ]
  },
  {
   "cell_type": "code",
   "execution_count": 27,
   "metadata": {},
   "outputs": [
    {
     "data": {
      "text/plain": [
       "<matplotlib.axes._subplots.AxesSubplot at 0x7fb0b2e21e10>"
      ]
     },
     "execution_count": 27,
     "metadata": {},
     "output_type": "execute_result"
    },
    {
     "data": {
      "image/png": "[encoded data removed]",
      "text/plain": [
       "<Figure size 432x288 with 2 Axes>"
      ]
     },
     "metadata": {
      "needs_background": "light"
     },
     "output_type": "display_data"
    }
   ],
   "source": [
    "selected_mlb_data = updated_mlb_data[['W', 'ERA', 'SB']]\n",
    "\n",
    "sns.heatmap(selected_mlb_data.corr(), annot=True)"
   ]
  },
  {
   "cell_type": "markdown",
   "metadata": {},
   "source": [
    "### Choose any two of the variables from 3. Draw 1,000 samples, taking the mean of 100 observations each time. Plot the frequencies of the sample means. What distribution does this appear to follow?"
   ]
  },
  {
   "cell_type": "code",
   "execution_count": 13,
   "metadata": {},
   "outputs": [],
   "source": [
    "from scipy import stats\n",
    "from numpy import mean, std\n"
   ]
  },
  {
   "cell_type": "code",
   "execution_count": 14,
   "metadata": {},
   "outputs": [],
   "source": [
    "win_means = []\n",
    "\n",
    "for trial in range(1000):\n",
    "    win_means.append(updated_mlb_data['W'].sample(n=100).mean())\n"
   ]
  },
  {
   "cell_type": "code",
   "execution_count": 15,
   "metadata": {},
   "outputs": [
    {
     "data": {
      "image/png": "[encoded data removed]",
      "text/plain": [
       "<Figure size 432x288 with 1 Axes>"
      ]
     },
     "metadata": {
      "needs_background": "light"
     },
     "output_type": "display_data"
    }
   ],
   "source": [
    "plt.hist(win_means)\n",
    "plt.axvline(mean(win_means), color='b')\n",
    "plt.axvline(mean(win_means) + std(win_means), color='b', linestyle='dashed')\n",
    "plt.axvline(mean(win_means) - std(win_means), color='b', linestyle='dashed')\n",
    "plt.show()"
   ]
  },
  {
   "cell_type": "code",
   "execution_count": 16,
   "metadata": {},
   "outputs": [
    {
     "name": "stdout",
     "output_type": "stream",
     "text": [
      "DescribeResult(nobs=1000, minmax=(76.89, 83.55), mean=80.57223, variance=1.0483833104104106, skewness=0.009155652852436896, kurtosis=0.06627459383809686)\n"
     ]
    }
   ],
   "source": [
    "print(stats.describe(win_means))"
   ]
  },
  {
   "cell_type": "code",
   "execution_count": 17,
   "metadata": {},
   "outputs": [],
   "source": [
    "sb_means = []\n",
    "\n",
    "for trial in range(1000):\n",
    "    sb_means.append(updated_mlb_data['SB'].sample(n=100).mean())\n"
   ]
  },
  {
   "cell_type": "code",
   "execution_count": 18,
   "metadata": {},
   "outputs": [
    {
     "data": {
      "image/png": "[encoded data removed]",
      "text/plain": [
       "<Figure size 432x288 with 1 Axes>"
      ]
     },
     "metadata": {
      "needs_background": "light"
     },
     "output_type": "display_data"
    }
   ],
   "source": [
    "plt.hist(sb_means)\n",
    "plt.axvline(mean(sb_means), color='b')\n",
    "plt.axvline(mean(sb_means) + std(sb_means), color='b', linestyle='dashed')\n",
    "plt.axvline(mean(sb_means) - std(sb_means), color='b', linestyle='dashed')\n",
    "plt.show()"
   ]
  },
  {
   "cell_type": "code",
   "execution_count": 19,
   "metadata": {},
   "outputs": [
    {
     "name": "stdout",
     "output_type": "stream",
     "text": [
      "DescribeResult(nobs=1000, minmax=(88.69, 108.66), mean=98.60524000000001, variance=8.324127670070071, skewness=0.01884121023868017, kurtosis=0.1328938690447683)\n"
     ]
    }
   ],
   "source": [
    "print(stats.describe(sb_means))"
   ]
  },
  {
   "cell_type": "markdown",
   "metadata": {},
   "source": [
    "Both distributions appear to be normal, as we would expect from the Central Limit Theorem "
   ]
  },
  {
   "cell_type": "code",
   "execution_count": null,
   "metadata": {},
   "outputs": [],
   "source": []
  }
 ],
 "metadata": {
  "kernelspec": {
   "display_name": "Python 3",
   "language": "python",
   "name": "python3"
  },
  "language_info": {
   "codemirror_mode": {
    "name": "ipython",
    "version": 3
   },
   "file_extension": ".py",
   "mimetype": "text/x-python",
   "name": "python",
   "nbconvert_exporter": "python",
   "pygments_lexer": "ipython3",
   "version": "3.7.6"
  }
 },
 "nbformat": 4,
 "nbformat_minor": 4
}
